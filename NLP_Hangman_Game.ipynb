{
 "cells": [
  {
   "cell_type": "markdown",
   "metadata": {},
   "source": [
    "# Trung Vo NLP Project (The Hangman Game)"
   ]
  },
  {
   "cell_type": "code",
   "execution_count": 10,
   "metadata": {
    "jupyter": {
     "outputs_hidden": true
    },
    "scrolled": true
   },
   "outputs": [],
   "source": [
    "import time\n",
    "import os\n",
    "import collections\n",
    "import string"
   ]
  },
  {
   "cell_type": "markdown",
   "metadata": {},
   "source": [
    "# Model1 based on n-grams concept from NLP"
   ]
  },
  {
   "cell_type": "code",
   "execution_count": 22,
   "metadata": {
    "jupyter": {
     "outputs_hidden": true
    }
   },
   "outputs": [],
   "source": [
    "class HangmanAPI(object):\n",
    "    def __init__(self):        \n",
    "        self.letter_avail = set(string.ascii_lowercase)\n",
    "        full_dictionary_location = \"dictionary.txt\"\n",
    "        self.full_dictionary = self.build_dictionary(full_dictionary_location)\n",
    "        self.current_dictionary = self.full_dictionary\n",
    "        self.ngrams_model(self.current_dictionary)\n",
    "        \n",
    "    def ngrams_model(self, current_dictionary):\n",
    "        self.ngrams = collections.defaultdict(list)\n",
    "        self.freqs = collections.defaultdict(dict)\n",
    "        \n",
    "        for word in current_dictionary:\n",
    "            for gram in range(1, 7): # gram == number of letter, bigram has gram == 2, we will use 1->6-gram models\n",
    "                # augment each word with ^ at the beginning and * at the end of the word, number of ^ and * depends on the model\n",
    "                new_word = \"\".join([\"^\"] * (gram-1) + list(word) + [\"*\"] * (gram-1)) \n",
    "                for i in range(len(new_word)):\n",
    "                    if i+gram > len(new_word):\n",
    "                        break\n",
    "                    self.ngrams[gram].append(new_word[i:i+gram])\n",
    "\n",
    "        for gram in range(1, 7):\n",
    "            self.freqs[gram] = collections.Counter(self.ngrams[gram])\n",
    "            \n",
    "    def guess(self, word):\n",
    "        word = word[::2]\n",
    "        guesses = collections.defaultdict(list) # store the \"decision\" for each letter, we will pick the highest one\n",
    "        highest_chance = 0\n",
    "        \n",
    "        for ch in self.letter_avail:\n",
    "            # Discounting with Backoff method\n",
    "            # Run from the highest to the lowest n-grams model until we see the repeated pattern from current dictionary\n",
    "            for gram in range(6, 1, -1): \n",
    "                # augment the word with ^ at the beginning and * at the end of the word to use the corresponding n-grams model\n",
    "                new_word = \"\".join([\"^\"] * (gram-1) + list(word) + [\"*\"] * (gram-1))\n",
    "                n = len(new_word)\n",
    "                skip = False # skip the rest of the loop if we found the pattern in high n-grams model\n",
    "                for i in range(n):\n",
    "                    if new_word[i] == '_':\n",
    "                        # We will consider both cases of the pattern end with [ch] and start with [ch]\n",
    "                        if i - gram >= 0:\n",
    "                            tmp = list(new_word[i-gram+1:i])\n",
    "                            tmp.append(ch)\n",
    "                            key = \"\".join(tmp)\n",
    "                            # replace abcxyz_ with abcxyz[ch] to see if it's in the corresponding n-gram model\n",
    "                            if key in self.freqs[gram]:\n",
    "                                guesses[ch].append(self.freqs[gram][key]/self.freqs[gram-1][key[:-1]])\n",
    "                                # chance of abc[ch] happens = Count(abc[ch])/Count(abc)\n",
    "                                skip = True\n",
    "\n",
    "                        if i + gram < n:\n",
    "                            tmp = [ch]\n",
    "                            tmp.extend(list(new_word[i+1:i+gram]))\n",
    "                            key = \"\".join(tmp)\n",
    "                            # replace _abcxyz with [ch]abcxyz to see if it's in the corresponding n-gram model\n",
    "                            if key in self.freqs[gram]:\n",
    "                                guesses[ch].append(self.freqs[gram][key]/self.freqs[gram-1][key[1:]])\n",
    "                                skip = True          \n",
    "                if skip: # found the pattern\n",
    "                    break\n",
    "            # Track the ch with the highest chance\n",
    "            try: \n",
    "                ch_chance = sum(guesses[ch])/len(guesses[ch])\n",
    "                if ch_chance > highest_chance:\n",
    "                    highest_chance = ch_chance\n",
    "                    guess_letter = ch\n",
    "            except:\n",
    "                pass\n",
    "        \n",
    "        # In case of not finding any parttern, usually happens on the first guess\n",
    "        if highest_chance == 0:\n",
    "            \n",
    "            uni_count = collections.Counter()\n",
    "            for curr in self.current_dictionary:\n",
    "                # Restrict dictionary for unigram model by len(word)\n",
    "                if len(curr) != len(word):\n",
    "                    continue\n",
    "                # unigram counter is based on number of UNIQUE appearance rather than total appearance in each word\n",
    "                for ch in set(curr):\n",
    "                    uni_count[ch] += 1\n",
    "\n",
    "            most_common_uni = uni_count.most_common()\n",
    "            i = 0\n",
    "            while most_common_uni[i][0] not in self.letter_avail: # make sure uni_guess is in letter_avail set\n",
    "                i += 1\n",
    "            uni_guess = most_common_uni[i][0]\n",
    "            return uni_guess\n",
    "        \n",
    "        return guess_letter\n",
    "    \n",
    "    def build_dictionary(self, dictionary_file_location):\n",
    "        text_file = open(dictionary_file_location,\"r\")\n",
    "        full_dictionary = text_file.read().splitlines()\n",
    "        text_file.close()\n",
    "        return full_dictionary"
   ]
  },
  {
   "cell_type": "markdown",
   "metadata": {},
   "source": [
    "# Play here"
   ]
  },
  {
   "cell_type": "code",
   "execution_count": 31,
   "metadata": {},
   "outputs": [
    {
     "name": "stdout",
     "output_type": "stream",
     "text": [
      "# of tries remaining: 6. Word: _ _ _ _ _ _ _ _ _ _ _ _ _ _.\n",
      "Guessing letter: i\n",
      "Good guess!, updated Word: _ i _ _ _ _ _ _ _ _ _ _ _ _\n",
      "# of tries remaining: 6. Word: _ i _ _ _ _ _ _ _ _ _ _ _ _.\n",
      "Guessing letter: n\n",
      "Wrong guess!, updated Word: _ i _ _ _ _ _ _ _ _ _ _ _ _\n",
      "# of tries remaining: 5. Word: _ i _ _ _ _ _ _ _ _ _ _ _ _.\n",
      "Guessing letter: t\n",
      "Wrong guess!, updated Word: _ i _ _ _ _ _ _ _ _ _ _ _ _\n",
      "# of tries remaining: 4. Word: _ i _ _ _ _ _ _ _ _ _ _ _ _.\n",
      "Guessing letter: l\n",
      "Good guess!, updated Word: _ i _ _ _ _ _ _ _ _ l _ _ _\n",
      "# of tries remaining: 4. Word: _ i _ _ _ _ _ _ _ _ l _ _ _.\n",
      "Guessing letter: e\n",
      "Good guess!, updated Word: _ i _ _ _ _ e _ _ _ l _ _ _\n",
      "# of tries remaining: 4. Word: _ i _ _ _ _ e _ _ _ l _ _ _.\n",
      "Guessing letter: r\n",
      "Good guess!, updated Word: _ i _ r _ _ e _ _ _ l _ _ _\n",
      "# of tries remaining: 4. Word: _ i _ r _ _ e _ _ _ l _ _ _.\n",
      "Guessing letter: a\n",
      "Good guess!, updated Word: _ i _ r _ _ e _ _ a l _ _ _\n",
      "# of tries remaining: 4. Word: _ i _ r _ _ e _ _ a l _ _ _.\n",
      "Guessing letter: c\n",
      "Good guess!, updated Word: _ i c r _ c e _ _ a l _ _ _\n",
      "# of tries remaining: 4. Word: _ i c r _ c e _ _ a l _ _ _.\n",
      "Guessing letter: m\n",
      "Good guess!, updated Word: m i c r _ c e _ _ a l _ _ _\n",
      "# of tries remaining: 4. Word: m i c r _ c e _ _ a l _ _ _.\n",
      "Guessing letter: o\n",
      "Good guess!, updated Word: m i c r o c e _ _ a l o _ _\n",
      "# of tries remaining: 4. Word: m i c r o c e _ _ a l o _ _.\n",
      "Guessing letter: p\n",
      "Good guess!, updated Word: m i c r o c e p _ a l o _ _\n",
      "# of tries remaining: 4. Word: m i c r o c e p _ a l o _ _.\n",
      "Guessing letter: h\n",
      "Good guess!, updated Word: m i c r o c e p h a l o _ _\n",
      "# of tries remaining: 4. Word: m i c r o c e p h a l o _ _.\n",
      "Guessing letter: u\n",
      "Good guess!, updated Word: m i c r o c e p h a l o u _\n",
      "# of tries remaining: 4. Word: m i c r o c e p h a l o u _.\n",
      "Guessing letter: s\n",
      "Good guess!, updated Word: m i c r o c e p h a l o u s\n",
      "Congratulations, you won with 4 attempts remains.\n",
      "0 attempts left, you lost!\n"
     ]
    }
   ],
   "source": [
    "# Change word and secret word to play, \n",
    "word = '_ _ _ _ _ _ _ _ _ _ _ _ _ _' #m i c r o c e p h a l o u s\n",
    "secret_word = \"m i c r o c e p h a l o u s\"\n",
    "\n",
    "attempts_remains = 6\n",
    "game = HangmanAPI()\n",
    "\n",
    "while attempts_remains > 0:\n",
    "    print(\"# of tries remaining: {0}. Word: {1}.\".format(attempts_remains, word))\n",
    "    guess_letter = game.guess(word)\n",
    "    print('Guessing letter: {0}'.format(guess_letter))\n",
    "    game.letter_avail.remove(guess_letter)\n",
    "    if guess_letter in secret_word:\n",
    "        for i, c in enumerate(secret_word):\n",
    "            if c == guess_letter:\n",
    "                word = list(word)\n",
    "                word[i] = c\n",
    "                word = ''.join(word)\n",
    "        print('Good guess!, updated Word:', ''.join(word))\n",
    "    else:\n",
    "        print('Wrong guess!, updated Word:', ''.join(word))\n",
    "        attempts_remains -= 1\n",
    "        new_dict = [] # if guess_letter is wrong, we will retrain the model with new_dict\n",
    "        for voca in game.current_dictionary:\n",
    "            if set(voca) & set(guess_letter): # new_dict words don't contain wrong guess_letter\n",
    "                continue\n",
    "            new_dict.append(voca)\n",
    "        game.current_dictionary = new_dict\n",
    "        game.ngrams_model(game.current_dictionary)\n",
    "\n",
    "    if '_' not in word:\n",
    "        print('Congratulations, you won with {0} attempts remains.'.format(attempts_remains))\n",
    "        break\n",
    "\n",
    "print('0 attempts left, you lost!')"
   ]
  },
  {
   "cell_type": "markdown",
   "metadata": {},
   "source": [
    "# Model2\n",
    "\n",
    "Working in progress, planning to train a Deeplearning model using Transformer."
   ]
  }
 ],
 "metadata": {
  "kernelspec": {
   "display_name": "Python 3 (ipykernel)",
   "language": "python",
   "name": "python3"
  },
  "language_info": {
   "codemirror_mode": {
    "name": "ipython",
    "version": 3
   },
   "file_extension": ".py",
   "mimetype": "text/x-python",
   "name": "python",
   "nbconvert_exporter": "python",
   "pygments_lexer": "ipython3",
   "version": "3.11.5"
  }
 },
 "nbformat": 4,
 "nbformat_minor": 4
}
